{
 "cells": [
  {
   "cell_type": "code",
   "execution_count": null,
   "metadata": {},
   "outputs": [],
   "source": [
    "import os"
   ]
  },
  {
   "cell_type": "code",
   "execution_count": null,
   "metadata": {},
   "outputs": [],
   "source": [
    "DEFAULT_YAML = os.path.join(os.path.abspath(os.path.dirname(__file__)), \"config.yml\")\n",
    "\n",
    "print(os.path.dirname(__file__))"
   ]
  }
 ],
 "metadata": {
  "interpreter": {
   "hash": "ef16ed9ad729b5e43c826d6211212b737946efee45984f4b399fafa2cf95c302"
  },
  "kernelspec": {
   "display_name": "Python 3.8.12 ('tensorflow_asr')",
   "language": "python",
   "name": "python3"
  },
  "language_info": {
   "name": "python",
   "version": "3.8.12"
  },
  "orig_nbformat": 4
 },
 "nbformat": 4,
 "nbformat_minor": 2
}
