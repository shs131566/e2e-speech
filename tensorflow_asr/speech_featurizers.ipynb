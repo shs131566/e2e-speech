{
 "cells": [
  {
   "cell_type": "code",
   "execution_count": 6,
   "metadata": {},
   "outputs": [],
   "source": [
    "import os\n",
    "import librosa\n",
    "\n",
    "import tensorflow as tf"
   ]
  },
  {
   "cell_type": "code",
   "execution_count": 12,
   "metadata": {},
   "outputs": [
    {
     "name": "stdout",
     "output_type": "stream",
     "text": [
      "<class 'tensorflow.python.framework.ops.EagerTensor'>\n"
     ]
    }
   ],
   "source": [
    "path = '/home/CORPUS/aihub_diquest/Training/[원천]1.AI챗봇_1/일반남여_일반통합05_M_1533018514_22_수도권_실내/일반남여_일반통합05_M_1533018514_22_수도권_실내_08249.wav'\n",
    "# load_and_convert_to_wav(path: str) -> tf.Tensor\n",
    "wave, rate = librosa.load(os.path.expanduser(path), sr=None, mono=True)\n",
    "tensor = tf.audio.encode_wav(tf.expand_dims(wave, axis=1), sample_rate=rate)"
   ]
  }
 ],
 "metadata": {
  "interpreter": {
   "hash": "ef16ed9ad729b5e43c826d6211212b737946efee45984f4b399fafa2cf95c302"
  },
  "kernelspec": {
   "display_name": "Python 3.8.12 ('tensorflow_asr')",
   "language": "python",
   "name": "python3"
  },
  "language_info": {
   "codemirror_mode": {
    "name": "ipython",
    "version": 3
   },
   "file_extension": ".py",
   "mimetype": "text/x-python",
   "name": "python",
   "nbconvert_exporter": "python",
   "pygments_lexer": "ipython3",
   "version": "3.8.12"
  },
  "orig_nbformat": 4
 },
 "nbformat": 4,
 "nbformat_minor": 2
}
